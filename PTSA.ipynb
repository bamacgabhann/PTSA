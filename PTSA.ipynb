{
 "cells": [
  {
   "cell_type": "markdown",
   "id": "5077ad65-b8ee-43dd-bfbd-2474274961b1",
   "metadata": {},
   "source": [
    "<a href=\"https://colab.research.google.com/github/bamacgabhann/PTSA/blob/main/PTSA.ipynb\" target=\"_blank\"><img src=\"https://colab.research.google.com/assets/colab-badge.svg\" alt=\"Open In Colab\"/></a>"
   ]
  },
  {
   "cell_type": "markdown",
   "id": "20da58c3-3378-473a-97db-83c73e7924f1",
   "metadata": {},
   "source": [
    "PTSA - Public Transit Service Areas - is a Python package to generate service area polygons around public transit locations (e.g. bus stops, train stations) using several different methods.\n",
    "\n",
    "This Notebook uses PTSA to generate service areas for bus stops in Limerick and Sligo (Ireland), using several different methods, and evaluate the results.\n",
    "\n",
    "If you are using Google Colab to run this Notebook, you can run the following cell to connect a Google Drive."
   ]
  },
  {
   "cell_type": "code",
   "execution_count": null,
   "id": "13616f7c-5bf5-465d-8607-7575ab8118ec",
   "metadata": {},
   "outputs": [],
   "source": [
    "if 'google.colab' in str(get_ipython()):\n",
    "    from google.colab import drive\n",
    "    drive.mount('/content/drive')"
   ]
  },
  {
   "cell_type": "markdown",
   "id": "6c8324fb-7abe-46cd-9dbb-9dbe263a3a47",
   "metadata": {},
   "source": [
    "If you are using Google Colab to run this Notebook, you will need to run the following cell to install missing packages:"
   ]
  },
  {
   "cell_type": "code",
   "execution_count": null,
   "id": "ee4f5e60-7342-4120-ae85-9db5f61bd3db",
   "metadata": {},
   "outputs": [],
   "source": [
    "if 'google.colab' in str(get_ipython()):\n",
    "    !pip install osmnx\n",
    "#    !pip install movingpandas hvplot cartopy geoviews"
   ]
  },
  {
   "cell_type": "markdown",
   "id": "565a4488-fd12-46d5-b4d3-2341506755da",
   "metadata": {},
   "source": [
    "Import dependencies"
   ]
  },
  {
   "cell_type": "code",
   "execution_count": null,
   "id": "2c5fb018-63ca-41e0-a7b6-41acb73c3c50",
   "metadata": {},
   "outputs": [],
   "source": [
    "#import pandas as pd\n",
    "#import geopandas as gpd\n",
    "#import movingpandas as mpd\n",
    "#import matplotlib.pyplot as plt\n",
    "import osmnx as ox\n",
    "\n",
    "#import hvplot.pandas\n",
    "\n",
    "#from datetime import datetime, timedelta\n",
    "from shapely.geometry import Point, LineString, Polygon, box\n",
    "#from holoviews import opts\n",
    "\n",
    "#import warnings\n",
    "#warnings.filterwarnings(\"ignore\")\n",
    "\n",
    "#plot_defaults = {\"linewidth\": 5, \"capstyle\": \"round\", \"figsize\": (10, 6), \"legend\": True}"
   ]
  }
 ],
 "metadata": {
  "kernelspec": {
   "display_name": "PTSA",
   "language": "python",
   "name": "ptsa"
  },
  "language_info": {
   "codemirror_mode": {
    "name": "ipython",
    "version": 3
   },
   "file_extension": ".py",
   "mimetype": "text/x-python",
   "name": "python",
   "nbconvert_exporter": "python",
   "pygments_lexer": "ipython3",
   "version": "3.11.6"
  }
 },
 "nbformat": 4,
 "nbformat_minor": 5
}
